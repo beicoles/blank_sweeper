{
 "cells": [
  {
   "cell_type": "code",
   "execution_count": 127,
   "metadata": {
    "collapsed": false
   },
   "outputs": [],
   "source": [
    "import json, csv\n",
    "from dateutil.parser import parse"
   ]
  },
  {
   "cell_type": "code",
   "execution_count": null,
   "metadata": {
    "collapsed": true
   },
   "outputs": [],
   "source": []
  },
  {
   "cell_type": "code",
   "execution_count": 137,
   "metadata": {
    "collapsed": false
   },
   "outputs": [
    {
     "name": "stdout",
     "output_type": "stream",
     "text": [
      "dict_keys(['RelatedData', 'Longitude', 'Time', 'Latitude'])\n",
      "\n",
      "\n",
      "{'Longitude (Deg)': -29.2, 'Total Radiated Energy (J)': '10000000000000', 'Velocity Components (km/s): vz': '-27', 'Latitude (Deg)': -22.0, 'Calculated Total Impact Energy (kt)': '18', 'Velocity Components (km/s): vy': '-17', 'Date/Time - Peak Brightness (UT)': 1258807980.0, 'Velocity Components (km/s): vx': '3', 'Velocity (km/s)': '32.1', 'Altitude (km)': '38'}\n",
      "{'Longitude (Deg)': -28.8, 'Total Radiated Energy (J)': '139000000000', 'Velocity Components (km/s): vz': '11.6', 'Latitude (Deg)': 2.0, 'Calculated Total Impact Energy (kt)': '0.41', 'Velocity Components (km/s): vy': '-7.6', 'Date/Time - Peak Brightness (UT)': 1420771271.0, 'Velocity Components (km/s): vx': '-10.7', 'Velocity (km/s)': '', 'Altitude (km)': '36'}\n",
      "{'Longitude (Deg)': 176.2, 'Total Radiated Energy (J)': '309000000000', 'Velocity Components (km/s): vz': '6.5', 'Latitude (Deg)': -44.2, 'Calculated Total Impact Energy (kt)': '0.82', 'Velocity Components (km/s): vy': '4.6', 'Date/Time - Peak Brightness (UT)': 1400215368.0, 'Velocity Components (km/s): vx': '14.4', 'Velocity (km/s)': '', 'Altitude (km)': '44'}\n",
      "{'Longitude (Deg)': -132.6, 'Total Radiated Energy (J)': '3820000000000', 'Velocity Components (km/s): vz': '16.5', 'Latitude (Deg)': -61.7, 'Calculated Total Impact Energy (kt)': '7.6', 'Velocity Components (km/s): vy': '5.7', 'Date/Time - Peak Brightness (UT)': 1408746581.0, 'Velocity Components (km/s): vx': '-2.3', 'Velocity (km/s)': '16.2', 'Altitude (km)': '22.2'}\n",
      "{'Longitude (Deg)': -144.9, 'Total Radiated Energy (J)': '33000000000', 'Velocity Components (km/s): vz': '-2.2', 'Latitude (Deg)': 33.5, 'Calculated Total Impact Energy (kt)': '0.11', 'Velocity Components (km/s): vy': '-2.8', 'Date/Time - Peak Brightness (UT)': 1418338091.0, 'Velocity Components (km/s): vx': '11.5', 'Velocity (km/s)': '', 'Altitude (km)': '26.3'}\n",
      "{'Longitude (Deg)': 172.2, 'Total Radiated Energy (J)': '73000000000', 'Velocity Components (km/s): vz': '', 'Latitude (Deg)': -49.2, 'Calculated Total Impact Energy (kt)': '0.23', 'Velocity Components (km/s): vy': '', 'Date/Time - Peak Brightness (UT)': 1406590687.0, 'Velocity Components (km/s): vx': '', 'Velocity (km/s)': '', 'Altitude (km)': ''}\n",
      "{'Longitude (Deg)': -138.4, 'Total Radiated Energy (J)': '34000000000', 'Velocity Components (km/s): vz': '', 'Latitude (Deg)': -65.6, 'Calculated Total Impact Energy (kt)': '0.12', 'Velocity Components (km/s): vy': '', 'Date/Time - Peak Brightness (UT)': 1370098188.0, 'Velocity Components (km/s): vx': '', 'Velocity (km/s)': '', 'Altitude (km)': '28.9'}\n",
      "{'Longitude (Deg)': 11.2, 'Total Radiated Energy (J)': '33000000000', 'Velocity Components (km/s): vz': '4.6', 'Latitude (Deg)': -8.0, 'Calculated Total Impact Energy (kt)': '0.11', 'Velocity Components (km/s): vy': '3.4', 'Date/Time - Peak Brightness (UT)': 1424150390.0, 'Velocity Components (km/s): vx': '-28.2', 'Velocity (km/s)': '', 'Altitude (km)': '39'}\n",
      "{'Longitude (Deg)': 66.3, 'Total Radiated Energy (J)': '72000000000', 'Velocity Components (km/s): vz': '', 'Latitude (Deg)': -4.6, 'Calculated Total Impact Energy (kt)': '0.23', 'Velocity Components (km/s): vy': '', 'Date/Time - Peak Brightness (UT)': 1413526056.0, 'Velocity Components (km/s): vx': '', 'Velocity (km/s)': '', 'Altitude (km)': '39'}\n",
      "{'Longitude (Deg)': 165.1, 'Total Radiated Energy (J)': '64000000000', 'Velocity Components (km/s): vz': '-11.3', 'Latitude (Deg)': 32.8, 'Calculated Total Impact Energy (kt)': '0.2', 'Velocity Components (km/s): vy': '2.5', 'Date/Time - Peak Brightness (UT)': 1386443409.0, 'Velocity Components (km/s): vx': '2.3', 'Velocity (km/s)': '', 'Altitude (km)': '23.5'}\n",
      "{'Longitude (Deg)': 150.0, 'Total Radiated Energy (J)': '35000000000', 'Velocity Components (km/s): vz': '', 'Latitude (Deg)': 22.7, 'Calculated Total Impact Energy (kt)': '0.12', 'Velocity Components (km/s): vy': '', 'Date/Time - Peak Brightness (UT)': 1409924246.0, 'Velocity Components (km/s): vx': '', 'Velocity (km/s)': '', 'Altitude (km)': ''}\n",
      "{'Longitude (Deg)': 122.4, 'Total Radiated Energy (J)': '58000000000', 'Velocity Components (km/s): vz': '', 'Latitude (Deg)': 12.4, 'Calculated Total Impact Energy (kt)': '0.19', 'Velocity Components (km/s): vy': '', 'Date/Time - Peak Brightness (UT)': 1424832804.0, 'Velocity Components (km/s): vx': '', 'Velocity (km/s)': '', 'Altitude (km)': '42'}\n",
      "{'Longitude (Deg)': -115.8, 'Total Radiated Energy (J)': '156000000000', 'Velocity Components (km/s): vz': '-7.7', 'Latitude (Deg)': 43.1, 'Calculated Total Impact Energy (kt)': '0.45', 'Velocity Components (km/s): vy': '-12.1', 'Date/Time - Peak Brightness (UT)': 1415103210.0, 'Velocity Components (km/s): vx': '-7.2', 'Velocity (km/s)': '', 'Altitude (km)': '22.2'}\n",
      "{'Longitude (Deg)': 178.5, 'Total Radiated Energy (J)': '20000000000', 'Velocity Components (km/s): vz': '', 'Latitude (Deg)': 21.0, 'Calculated Total Impact Energy (kt)': '0.073', 'Velocity Components (km/s): vy': '', 'Date/Time - Peak Brightness (UT)': 1374809546.0, 'Velocity Components (km/s): vx': '', 'Velocity (km/s)': '', 'Altitude (km)': '37'}\n",
      "{'Longitude (Deg)': -158.0, 'Total Radiated Energy (J)': '20000000000000', 'Velocity Components (km/s): vz': '-4', 'Latitude (Deg)': 38.0, 'Calculated Total Impact Energy (kt)': '33', 'Velocity Components (km/s): vy': '-2', 'Date/Time - Peak Brightness (UT)': 1293290640.0, 'Velocity Components (km/s): vx': '18', 'Velocity (km/s)': '18.1', 'Altitude (km)': '26'}\n",
      "{'Longitude (Deg)': -26.9, 'Total Radiated Energy (J)': '136000000000', 'Velocity Components (km/s): vz': '-4.4', 'Latitude (Deg)': 45.7, 'Calculated Total Impact Energy (kt)': '0.4', 'Velocity Components (km/s): vy': '1.8', 'Date/Time - Peak Brightness (UT)': 1420563959.0, 'Velocity Components (km/s): vx': '-35.4', 'Velocity (km/s)': '', 'Altitude (km)': '45.5'}\n",
      "{'Longitude (Deg)': 64.6, 'Total Radiated Energy (J)': '3400000000000', 'Velocity Components (km/s): vz': '', 'Latitude (Deg)': 60.3, 'Calculated Total Impact Energy (kt)': '6.9', 'Velocity Components (km/s): vy': '', 'Date/Time - Peak Brightness (UT)': 1359070818.0, 'Velocity Components (km/s): vx': '', 'Velocity (km/s)': '', 'Altitude (km)': ''}\n",
      "{'Longitude (Deg)': 45.4, 'Total Radiated Energy (J)': '34000000000', 'Velocity Components (km/s): vz': '', 'Latitude (Deg)': 3.2, 'Calculated Total Impact Energy (kt)': '0.12', 'Velocity Components (km/s): vy': '', 'Date/Time - Peak Brightness (UT)': 1409166465.0, 'Velocity Components (km/s): vx': '', 'Velocity (km/s)': '', 'Altitude (km)': ''}\n",
      "{'Longitude (Deg)': -141.8, 'Total Radiated Energy (J)': '140000000000', 'Velocity Components (km/s): vz': '', 'Latitude (Deg)': -18.5, 'Calculated Total Impact Energy (kt)': '0.41', 'Velocity Components (km/s): vy': '', 'Date/Time - Peak Brightness (UT)': 1389725179.0, 'Velocity Components (km/s): vx': '', 'Velocity (km/s)': '', 'Altitude (km)': '29.6'}\n",
      "{'Longitude (Deg)': -2.0, 'Total Radiated Energy (J)': '147000000000', 'Velocity Components (km/s): vz': '-9.9', 'Latitude (Deg)': 39.5, 'Calculated Total Impact Energy (kt)': '0.43', 'Velocity Components (km/s): vy': '11.4', 'Date/Time - Peak Brightness (UT)': 1387758657.0, 'Velocity Components (km/s): vx': '-1.1', 'Velocity (km/s)': '', 'Altitude (km)': '34.3'}\n",
      "{'Longitude (Deg)': 24.0, 'Total Radiated Energy (J)': '105000000000', 'Velocity Components (km/s): vz': '9.4', 'Latitude (Deg)': -68.2, 'Calculated Total Impact Energy (kt)': '0.32', 'Velocity Components (km/s): vy': '16.1', 'Date/Time - Peak Brightness (UT)': 1416994816.0, 'Velocity Components (km/s): vx': '-7', 'Velocity (km/s)': '', 'Altitude (km)': '37'}\n",
      "{'Longitude (Deg)': 111.8, 'Total Radiated Energy (J)': '540000000000', 'Velocity Components (km/s): vz': '', 'Latitude (Deg)': 0.0, 'Calculated Total Impact Energy (kt)': '1.3', 'Velocity Components (km/s): vy': '', 'Date/Time - Peak Brightness (UT)': 1395111757.0, 'Velocity Components (km/s): vx': '', 'Velocity (km/s)': '', 'Altitude (km)': '30.5'}\n",
      "{'Longitude (Deg)': 94.9, 'Total Radiated Energy (J)': '94000000000', 'Velocity Components (km/s): vz': '', 'Latitude (Deg)': -29.0, 'Calculated Total Impact Energy (kt)': '0.29', 'Velocity Components (km/s): vy': '', 'Date/Time - Peak Brightness (UT)': 1393830021.0, 'Velocity Components (km/s): vx': '', 'Velocity (km/s)': '', 'Altitude (km)': ''}\n",
      "{'Longitude (Deg)': -61.1, 'Total Radiated Energy (J)': '375000000000000', 'Velocity Components (km/s): vz': '-2.4', 'Latitude (Deg)': 54.8, 'Calculated Total Impact Energy (kt)': '440', 'Velocity Components (km/s): vy': '-13.3', 'Date/Time - Peak Brightness (UT)': 1360869633.0, 'Velocity Components (km/s): vx': '12.8', 'Velocity (km/s)': '18.6', 'Altitude (km)': '23.3'}\n",
      "{'Longitude (Deg)': -121.5, 'Total Radiated Energy (J)': '39000000000', 'Velocity Components (km/s): vz': '2.2', 'Latitude (Deg)': -28.7, 'Calculated Total Impact Energy (kt)': '0.13', 'Velocity Components (km/s): vy': '-12.7', 'Date/Time - Peak Brightness (UT)': 1396071941.0, 'Velocity Components (km/s): vx': '10', 'Velocity (km/s)': '', 'Altitude (km)': '30.7'}\n",
      "{'Longitude (Deg)': -120.6, 'Total Radiated Energy (J)': '20000000000000', 'Velocity Components (km/s): vz': '-6', 'Latitude (Deg)': -4.2, 'Calculated Total Impact Energy (kt)': '33', 'Velocity Components (km/s): vy': '-16', 'Date/Time - Peak Brightness (UT)': 1254941820.0, 'Velocity Components (km/s): vx': '14', 'Velocity (km/s)': '19.2', 'Altitude (km)': '19.1'}\n",
      "{'Longitude (Deg)': -141.2, 'Total Radiated Energy (J)': '245000000000', 'Velocity Components (km/s): vz': '-10.5', 'Latitude (Deg)': 18.9, 'Calculated Total Impact Energy (kt)': '0.67', 'Velocity Components (km/s): vy': '3.5', 'Date/Time - Peak Brightness (UT)': 1403894407.0, 'Velocity Components (km/s): vx': '12', 'Velocity (km/s)': '12.4', 'Altitude (km)': '26.3'}\n",
      "{'Longitude (Deg)': 132.9, 'Total Radiated Energy (J)': '34000000000', 'Velocity Components (km/s): vz': '', 'Latitude (Deg)': 22.2, 'Calculated Total Impact Energy (kt)': '0.12', 'Velocity Components (km/s): vy': '', 'Date/Time - Peak Brightness (UT)': 1413888937.0, 'Velocity Components (km/s): vx': '', 'Velocity (km/s)': '', 'Altitude (km)': ''}\n",
      "{'Longitude (Deg)': 25.0, 'Total Radiated Energy (J)': '1610000000000', 'Velocity Components (km/s): vz': '-5.5', 'Latitude (Deg)': -19.1, 'Calculated Total Impact Energy (kt)': '3.5', 'Velocity Components (km/s): vy': '8.4', 'Date/Time - Peak Brightness (UT)': 1381565205.0, 'Velocity Components (km/s): vx': '-8', 'Velocity (km/s)': '', 'Altitude (km)': '22.2'}\n",
      "{'Longitude (Deg)': -35.3, 'Total Radiated Energy (J)': '75000000000', 'Velocity Components (km/s): vz': '-2.7', 'Latitude (Deg)': 44.7, 'Calculated Total Impact Energy (kt)': '0.23', 'Velocity Components (km/s): vy': '-11', 'Date/Time - Peak Brightness (UT)': 1384969835.0, 'Velocity Components (km/s): vx': '-5', 'Velocity (km/s)': '', 'Altitude (km)': '59.3'}\n",
      "{'Longitude (Deg)': 115.9, 'Total Radiated Energy (J)': '53000000000', 'Velocity Components (km/s): vz': '', 'Latitude (Deg)': -33.9, 'Calculated Total Impact Energy (kt)': '0.17', 'Velocity Components (km/s): vy': '', 'Date/Time - Peak Brightness (UT)': 1406574463.0, 'Velocity Components (km/s): vx': '', 'Velocity (km/s)': '', 'Altitude (km)': ''}\n",
      "{'Longitude (Deg)': -17.1, 'Total Radiated Energy (J)': '29000000000', 'Velocity Components (km/s): vz': '', 'Latitude (Deg)': -32.7, 'Calculated Total Impact Energy (kt)': '0.1', 'Velocity Components (km/s): vy': '', 'Date/Time - Peak Brightness (UT)': 1363055579.0, 'Velocity Components (km/s): vx': '', 'Velocity (km/s)': '', 'Altitude (km)': '26'}\n",
      "{'Longitude (Deg)': 73.4, 'Total Radiated Energy (J)': '55000000000', 'Velocity Components (km/s): vz': '', 'Latitude (Deg)': -18.8, 'Calculated Total Impact Energy (kt)': '0.18', 'Velocity Components (km/s): vy': '', 'Date/Time - Peak Brightness (UT)': 1417061572.0, 'Velocity Components (km/s): vx': '', 'Velocity (km/s)': '', 'Altitude (km)': '38'}\n",
      "{'Longitude (Deg)': 61.5, 'Total Radiated Energy (J)': '26000000000', 'Velocity Components (km/s): vz': '', 'Latitude (Deg)': -32.8, 'Calculated Total Impact Energy (kt)': '0.092', 'Velocity Components (km/s): vy': '', 'Date/Time - Peak Brightness (UT)': 1392699044.0, 'Velocity Components (km/s): vx': '', 'Velocity (km/s)': '', 'Altitude (km)': ''}\n",
      "{'Longitude (Deg)': -137.1, 'Total Radiated Energy (J)': '69000000000', 'Velocity Components (km/s): vz': '-0.1', 'Latitude (Deg)': -31.8, 'Calculated Total Impact Energy (kt)': '0.22', 'Velocity Components (km/s): vy': '-2.3', 'Date/Time - Peak Brightness (UT)': 1375213814.0, 'Velocity Components (km/s): vx': '17.7', 'Velocity (km/s)': '', 'Altitude (km)': '29.1'}\n",
      "{'Longitude (Deg)': 149.0, 'Total Radiated Energy (J)': '188000000000', 'Velocity Components (km/s): vz': '-20.2', 'Latitude (Deg)': 68.0, 'Calculated Total Impact Energy (kt)': '0.53', 'Velocity Components (km/s): vy': '-2.3', 'Date/Time - Peak Brightness (UT)': 1424959584.0, 'Velocity Components (km/s): vx': '5.6', 'Velocity (km/s)': '', 'Altitude (km)': '33.7'}\n",
      "{'Longitude (Deg)': -96.3, 'Total Radiated Energy (J)': '78000000000', 'Velocity Components (km/s): vz': '', 'Latitude (Deg)': 76.6, 'Calculated Total Impact Energy (kt)': '0.24', 'Velocity Components (km/s): vy': '', 'Date/Time - Peak Brightness (UT)': 1418131158.0, 'Velocity Components (km/s): vx': '', 'Velocity (km/s)': '', 'Altitude (km)': '26.3'}\n",
      "{'Longitude (Deg)': -118.2, 'Total Radiated Energy (J)': '44000000000', 'Velocity Components (km/s): vz': '', 'Latitude (Deg)': -34.4, 'Calculated Total Impact Energy (kt)': '0.15', 'Velocity Components (km/s): vy': '', 'Date/Time - Peak Brightness (UT)': 1376302082.0, 'Velocity Components (km/s): vx': '', 'Velocity (km/s)': '', 'Altitude (km)': '66.6'}\n",
      "{'Longitude (Deg)': 49.2, 'Total Radiated Energy (J)': '22000000000', 'Velocity Components (km/s): vz': '', 'Latitude (Deg)': -23.3, 'Calculated Total Impact Energy (kt)': '0.079', 'Velocity Components (km/s): vy': '', 'Date/Time - Peak Brightness (UT)': 1420795907.0, 'Velocity Components (km/s): vx': '', 'Velocity (km/s)': '', 'Altitude (km)': ''}\n",
      "{'Longitude (Deg)': -88.1, 'Total Radiated Energy (J)': '55000000000', 'Velocity Components (km/s): vz': '-2.5', 'Latitude (Deg)': -15.9, 'Calculated Total Impact Energy (kt)': '0.18', 'Velocity Components (km/s): vy': '-16', 'Date/Time - Peak Brightness (UT)': 1425414605.0, 'Velocity Components (km/s): vx': '7.8', 'Velocity (km/s)': '', 'Altitude (km)': '39.8'}\n",
      "{'Longitude (Deg)': 155.6, 'Total Radiated Energy (J)': '48000000000', 'Velocity Components (km/s): vz': '', 'Latitude (Deg)': -15.1, 'Calculated Total Impact Energy (kt)': '0.16', 'Velocity Components (km/s): vy': '', 'Date/Time - Peak Brightness (UT)': 1357931061.0, 'Velocity Components (km/s): vx': '', 'Velocity (km/s)': '', 'Altitude (km)': '36.1'}\n",
      "{'Longitude (Deg)': 110.7, 'Total Radiated Energy (J)': '630000000000', 'Velocity Components (km/s): vz': '', 'Latitude (Deg)': 13.3, 'Calculated Total Impact Energy (kt)': '1.5', 'Velocity Components (km/s): vy': '', 'Date/Time - Peak Brightness (UT)': 1392245262.0, 'Velocity Components (km/s): vx': '', 'Velocity (km/s)': '', 'Altitude (km)': '25'}\n",
      "{'Longitude (Deg)': -90.2, 'Total Radiated Energy (J)': '390000000000', 'Velocity Components (km/s): vz': '5.1', 'Latitude (Deg)': -50.2, 'Calculated Total Impact Energy (kt)': '1', 'Velocity Components (km/s): vy': '-8.6', 'Date/Time - Peak Brightness (UT)': 1375123018.0, 'Velocity Components (km/s): vx': '15.9', 'Velocity (km/s)': '', 'Altitude (km)': '25.6'}\n",
      "{'Longitude (Deg)': 164.7, 'Total Radiated Energy (J)': '160000000000', 'Velocity Components (km/s): vz': '', 'Latitude (Deg)': -10.3, 'Calculated Total Impact Energy (kt)': '0.46', 'Velocity Components (km/s): vy': '', 'Date/Time - Peak Brightness (UT)': 1380007876.0, 'Velocity Components (km/s): vx': '', 'Velocity (km/s)': '', 'Altitude (km)': '40.7'}\n",
      "{'Longitude (Deg)': 30.7, 'Total Radiated Energy (J)': '5110000000000', 'Velocity Components (km/s): vz': '-8', 'Latitude (Deg)': 35.5, 'Calculated Total Impact Energy (kt)': '10', 'Velocity Components (km/s): vy': '9', 'Date/Time - Peak Brightness (UT)': 1367282438.0, 'Velocity Components (km/s): vx': '1', 'Velocity (km/s)': '', 'Altitude (km)': '21.2'}\n",
      "{'Longitude (Deg)': -156.2, 'Total Radiated Energy (J)': '120000000000', 'Velocity Components (km/s): vz': '-3.3', 'Latitude (Deg)': 0.3, 'Calculated Total Impact Energy (kt)': '0.36', 'Velocity Components (km/s): vy': '14.9', 'Date/Time - Peak Brightness (UT)': 1374885036.0, 'Velocity Components (km/s): vx': '16', 'Velocity (km/s)': '', 'Altitude (km)': '26.5'}\n",
      "{'Longitude (Deg)': 49.9, 'Total Radiated Energy (J)': '26000000000', 'Velocity Components (km/s): vz': '', 'Latitude (Deg)': -6.2, 'Calculated Total Impact Energy (kt)': '0.092', 'Velocity Components (km/s): vy': '', 'Date/Time - Peak Brightness (UT)': 1409325339.0, 'Velocity Components (km/s): vx': '', 'Velocity (km/s)': '', 'Altitude (km)': ''}\n",
      "{'Longitude (Deg)': 95.9, 'Total Radiated Energy (J)': '136000000000', 'Velocity Components (km/s): vz': '-12.5', 'Latitude (Deg)': -39.4, 'Calculated Total Impact Energy (kt)': '0.4', 'Velocity Components (km/s): vy': '13.4', 'Date/Time - Peak Brightness (UT)': 1400241988.0, 'Velocity Components (km/s): vx': '2.9', 'Velocity (km/s)': '18', 'Altitude (km)': '30.8'}\n",
      "{'Longitude (Deg)': 38.8, 'Total Radiated Energy (J)': '32000000000', 'Velocity Components (km/s): vz': '-1', 'Latitude (Deg)': -23.0, 'Calculated Total Impact Energy (kt)': '0.1', 'Velocity Components (km/s): vy': '-8', 'Date/Time - Peak Brightness (UT)': 1361337187.0, 'Velocity Components (km/s): vx': '-11', 'Velocity (km/s)': '', 'Altitude (km)': ''}\n",
      "{'Longitude (Deg)': -147.6, 'Total Radiated Energy (J)': '31000000000', 'Velocity Components (km/s): vz': '-10.3', 'Latitude (Deg)': -1.3, 'Calculated Total Impact Energy (kt)': '0.11', 'Velocity Components (km/s): vy': '-43.5', 'Date/Time - Peak Brightness (UT)': 1389171934.0, 'Velocity Components (km/s): vx': '-3.4', 'Velocity (km/s)': '', 'Altitude (km)': '18.7'}\n",
      "{'Longitude (Deg)': -87.3, 'Total Radiated Energy (J)': '1050000000000', 'Velocity Components (km/s): vz': '9.9', 'Latitude (Deg)': -36.9, 'Calculated Total Impact Energy (kt)': '2.4', 'Velocity Components (km/s): vy': '-16.1', 'Date/Time - Peak Brightness (UT)': 1399549357.0, 'Velocity Components (km/s): vx': '-2', 'Velocity (km/s)': '', 'Altitude (km)': '35.4'}\n",
      "{'Longitude (Deg)': 64.6, 'Total Radiated Energy (J)': '1070000000000', 'Velocity Components (km/s): vz': '1', 'Latitude (Deg)': -28.1, 'Calculated Total Impact Energy (kt)': '2.5', 'Velocity Components (km/s): vy': '14', 'Date/Time - Peak Brightness (UT)': 1366496592.0, 'Velocity Components (km/s): vx': '5', 'Velocity (km/s)': '', 'Altitude (km)': '40.7'}\n",
      "{'Longitude (Deg)': 162.1, 'Total Radiated Energy (J)': '44000000000', 'Velocity Components (km/s): vz': '-7.8', 'Latitude (Deg)': 86.7, 'Calculated Total Impact Energy (kt)': '0.15', 'Velocity Components (km/s): vy': '-13.3', 'Date/Time - Peak Brightness (UT)': 1418410432.0, 'Velocity Components (km/s): vx': '15.3', 'Velocity (km/s)': '', 'Altitude (km)': '30.7'}\n",
      "{'Longitude (Deg)': -137.2, 'Total Radiated Energy (J)': '28000000000', 'Velocity Components (km/s): vz': '', 'Latitude (Deg)': 3.2, 'Calculated Total Impact Energy (kt)': '0.098', 'Velocity Components (km/s): vy': '', 'Date/Time - Peak Brightness (UT)': 1410260146.0, 'Velocity Components (km/s): vx': '', 'Velocity (km/s)': '', 'Altitude (km)': '32.5'}\n",
      "{'Longitude (Deg)': 179.7, 'Total Radiated Energy (J)': '118000000000', 'Velocity Components (km/s): vz': '13.4', 'Latitude (Deg)': -69.5, 'Calculated Total Impact Energy (kt)': '0.35', 'Velocity Components (km/s): vy': '2.2', 'Date/Time - Peak Brightness (UT)': 1417015011.0, 'Velocity Components (km/s): vx': '21.3', 'Velocity (km/s)': '', 'Altitude (km)': '23.3'}\n",
      "{'Longitude (Deg)': 118.6, 'Total Radiated Energy (J)': '20000000000', 'Velocity Components (km/s): vz': '', 'Latitude (Deg)': -39.1, 'Calculated Total Impact Energy (kt)': '0.073', 'Velocity Components (km/s): vy': '', 'Date/Time - Peak Brightness (UT)': 1425759988.0, 'Velocity Components (km/s): vx': '', 'Velocity (km/s)': '', 'Altitude (km)': ''}\n",
      "{'Longitude (Deg)': -140.0, 'Total Radiated Energy (J)': '20000000000', 'Velocity Components (km/s): vz': '-10', 'Latitude (Deg)': -31.1, 'Calculated Total Impact Energy (kt)': '0.073', 'Velocity Components (km/s): vy': '-14.4', 'Date/Time - Peak Brightness (UT)': 1420177159.0, 'Velocity Components (km/s): vx': '4.5', 'Velocity (km/s)': '', 'Altitude (km)': '38.1'}\n",
      "{'Longitude (Deg)': -119.1, 'Total Radiated Energy (J)': '72000000000', 'Velocity Components (km/s): vz': '-16', 'Latitude (Deg)': 8.0, 'Calculated Total Impact Energy (kt)': '0.23', 'Velocity Components (km/s): vy': '-10.5', 'Date/Time - Peak Brightness (UT)': 1426025939.0, 'Velocity Components (km/s): vx': '5.5', 'Velocity (km/s)': '', 'Altitude (km)': '35.2'}\n",
      "{'Longitude (Deg)': -93.4, 'Total Radiated Energy (J)': '61000000000', 'Velocity Components (km/s): vz': '8.3', 'Latitude (Deg)': -71.5, 'Calculated Total Impact Energy (kt)': '0.2', 'Velocity Components (km/s): vy': '2.9', 'Date/Time - Peak Brightness (UT)': 1403733281.0, 'Velocity Components (km/s): vx': '7', 'Velocity (km/s)': '', 'Altitude (km)': '28.5'}\n",
      "{'Longitude (Deg)': -85.7, 'Total Radiated Energy (J)': '39000000000', 'Velocity Components (km/s): vz': '', 'Latitude (Deg)': -43.7, 'Calculated Total Impact Energy (kt)': '0.13', 'Velocity Components (km/s): vy': '', 'Date/Time - Peak Brightness (UT)': 1412596935.0, 'Velocity Components (km/s): vx': '', 'Velocity (km/s)': '', 'Altitude (km)': ''}\n",
      "{'Longitude (Deg)': -64.4, 'Total Radiated Energy (J)': '78000000000', 'Velocity Components (km/s): vz': '2.6', 'Latitude (Deg)': 2.9, 'Calculated Total Impact Energy (kt)': '0.24', 'Velocity Components (km/s): vy': '-15.1', 'Date/Time - Peak Brightness (UT)': 1389513648.0, 'Velocity Components (km/s): vx': '-5.2', 'Velocity (km/s)': '', 'Altitude (km)': '37'}\n",
      "{'Longitude (Deg)': 172.7, 'Total Radiated Energy (J)': '700000000000', 'Velocity Components (km/s): vz': '13.3', 'Latitude (Deg)': -45.8, 'Calculated Total Impact Energy (kt)': '1.7', 'Velocity Components (km/s): vy': '-1.4', 'Date/Time - Peak Brightness (UT)': 1417146438.0, 'Velocity Components (km/s): vx': '0.4', 'Velocity (km/s)': '', 'Altitude (km)': '26.1'}\n",
      "{'Longitude (Deg)': -119.2, 'Total Radiated Energy (J)': '29000000000', 'Velocity Components (km/s): vz': '-3.5', 'Latitude (Deg)': -2.0, 'Calculated Total Impact Energy (kt)': '0.1', 'Velocity Components (km/s): vy': '-6.9', 'Date/Time - Peak Brightness (UT)': 1413253503.0, 'Velocity Components (km/s): vx': '15', 'Velocity (km/s)': '', 'Altitude (km)': '27.2'}\n",
      "{'Longitude (Deg)': 131.1, 'Total Radiated Energy (J)': '58000000000', 'Velocity Components (km/s): vz': '', 'Latitude (Deg)': 21.9, 'Calculated Total Impact Energy (kt)': '0.19', 'Velocity Components (km/s): vy': '', 'Date/Time - Peak Brightness (UT)': 1401297156.0, 'Velocity Components (km/s): vx': '', 'Velocity (km/s)': '', 'Altitude (km)': '28.7'}\n",
      "{'Longitude (Deg)': 158.6, 'Total Radiated Energy (J)': '65000000000', 'Velocity Components (km/s): vz': '', 'Latitude (Deg)': -18.8, 'Calculated Total Impact Energy (kt)': '0.21', 'Velocity Components (km/s): vy': '', 'Date/Time - Peak Brightness (UT)': 1360213944.0, 'Velocity Components (km/s): vx': '', 'Velocity (km/s)': '', 'Altitude (km)': ''}\n",
      "{'Longitude (Deg)': -76.4, 'Total Radiated Energy (J)': '20000000000', 'Velocity Components (km/s): vz': '', 'Latitude (Deg)': -3.0, 'Calculated Total Impact Energy (kt)': '0.073', 'Velocity Components (km/s): vy': '', 'Date/Time - Peak Brightness (UT)': 1368544821.0, 'Velocity Components (km/s): vx': '', 'Velocity (km/s)': '', 'Altitude (km)': ''}\n",
      "{'Longitude (Deg)': 21.9, 'Total Radiated Energy (J)': '280000000000', 'Velocity Components (km/s): vz': '15.9', 'Latitude (Deg)': -41.5, 'Calculated Total Impact Energy (kt)': '0.75', 'Velocity Components (km/s): vy': '5.5', 'Date/Time - Peak Brightness (UT)': 1349275812.0, 'Velocity Components (km/s): vx': '-2.4', 'Velocity (km/s)': '', 'Altitude (km)': ''}\n",
      "{'Longitude (Deg)': 83.6, 'Total Radiated Energy (J)': '198000000000', 'Velocity Components (km/s): vz': '', 'Latitude (Deg)': 17.3, 'Calculated Total Impact Energy (kt)': '0.55', 'Velocity Components (km/s): vy': '', 'Date/Time - Peak Brightness (UT)': 1356823535.0, 'Velocity Components (km/s): vx': '', 'Velocity (km/s)': '', 'Altitude (km)': ''}\n",
      "{'Longitude (Deg)': -159.3, 'Total Radiated Energy (J)': '121000000000', 'Velocity Components (km/s): vz': '', 'Latitude (Deg)': -5.4, 'Calculated Total Impact Energy (kt)': '0.36', 'Velocity Components (km/s): vy': '', 'Date/Time - Peak Brightness (UT)': 1426608290.0, 'Velocity Components (km/s): vx': '', 'Velocity (km/s)': '', 'Altitude (km)': '50'}\n",
      "{'Longitude (Deg)': 111.9, 'Total Radiated Energy (J)': '470000000000', 'Velocity Components (km/s): vz': '1', 'Latitude (Deg)': -8.1, 'Calculated Total Impact Energy (kt)': '1.2', 'Velocity Components (km/s): vy': '15.3', 'Date/Time - Peak Brightness (UT)': 1349167118.0, 'Velocity Components (km/s): vx': '1.4', 'Velocity (km/s)': '', 'Altitude (km)': '35'}\n",
      "{'Longitude (Deg)': -73.7, 'Total Radiated Energy (J)': '38000000000', 'Velocity Components (km/s): vz': '', 'Latitude (Deg)': -6.9, 'Calculated Total Impact Energy (kt)': '0.13', 'Velocity Components (km/s): vy': '', 'Date/Time - Peak Brightness (UT)': 1348782252.0, 'Velocity Components (km/s): vx': '', 'Velocity (km/s)': '', 'Altitude (km)': ''}\n",
      "{'Longitude (Deg)': 36.2, 'Total Radiated Energy (J)': '60000000000', 'Velocity Components (km/s): vz': '', 'Latitude (Deg)': -41.8, 'Calculated Total Impact Energy (kt)': '0.19', 'Velocity Components (km/s): vy': '', 'Date/Time - Peak Brightness (UT)': 1337916684.0, 'Velocity Components (km/s): vx': '', 'Velocity (km/s)': '', 'Altitude (km)': ''}\n",
      "{'Longitude (Deg)': -29.6, 'Total Radiated Energy (J)': '25000000000', 'Velocity Components (km/s): vz': '5.3', 'Latitude (Deg)': 2.5, 'Calculated Total Impact Energy (kt)': '0.089', 'Velocity Components (km/s): vy': '-5.3', 'Date/Time - Peak Brightness (UT)': 1353415051.0, 'Velocity Components (km/s): vx': '-12.2', 'Velocity (km/s)': '', 'Altitude (km)': '33.3'}\n",
      "{'Longitude (Deg)': 86.0, 'Total Radiated Energy (J)': '120000000000', 'Velocity Components (km/s): vz': '', 'Latitude (Deg)': -8.0, 'Calculated Total Impact Energy (kt)': '0.36', 'Velocity Components (km/s): vy': '', 'Date/Time - Peak Brightness (UT)': 1353363911.0, 'Velocity Components (km/s): vx': '', 'Velocity (km/s)': '', 'Altitude (km)': ''}\n",
      "{'Longitude (Deg)': -49.6, 'Total Radiated Energy (J)': '23000000000', 'Velocity Components (km/s): vz': '12.4', 'Latitude (Deg)': -75.4, 'Calculated Total Impact Energy (kt)': '0.082', 'Velocity Components (km/s): vy': '-3.9', 'Date/Time - Peak Brightness (UT)': 1350635182.0, 'Velocity Components (km/s): vx': '-2.3', 'Velocity (km/s)': '', 'Altitude (km)': '29.3'}\n",
      "{'Longitude (Deg)': 5.5, 'Total Radiated Energy (J)': '64000000000', 'Velocity Components (km/s): vz': '0.8', 'Latitude (Deg)': -36.1, 'Calculated Total Impact Energy (kt)': '0.2', 'Velocity Components (km/s): vy': '-1.7', 'Date/Time - Peak Brightness (UT)': 1427722432.0, 'Velocity Components (km/s): vx': '-13.7', 'Velocity (km/s)': '', 'Altitude (km)': '33.1'}\n",
      "{'Longitude (Deg)': 84.6, 'Total Radiated Energy (J)': '210000000000', 'Velocity Components (km/s): vz': '5.1', 'Latitude (Deg)': 51.2, 'Calculated Total Impact Energy (kt)': '0.58', 'Velocity Components (km/s): vy': '12', 'Date/Time - Peak Brightness (UT)': 1349715295.0, 'Velocity Components (km/s): vx': '3.4', 'Velocity (km/s)': '', 'Altitude (km)': '27.8'}\n",
      "{'Longitude (Deg)': 111.7, 'Total Radiated Energy (J)': '23000000000', 'Velocity Components (km/s): vz': '12.4', 'Latitude (Deg)': -69.8, 'Calculated Total Impact Energy (kt)': '0.082', 'Velocity Components (km/s): vy': '-5.2', 'Date/Time - Peak Brightness (UT)': 1347210212.0, 'Velocity Components (km/s): vx': '-10.2', 'Velocity (km/s)': '', 'Altitude (km)': '23.8'}\n",
      "{'Longitude (Deg)': -51.5, 'Total Radiated Energy (J)': '173000000000', 'Velocity Components (km/s): vz': '-7.9', 'Latitude (Deg)': -25.5, 'Calculated Total Impact Energy (kt)': '0.49', 'Velocity Components (km/s): vy': '-15.6', 'Date/Time - Peak Brightness (UT)': 1428437191.0, 'Velocity Components (km/s): vx': '8', 'Velocity (km/s)': '', 'Altitude (km)': '36.3'}\n",
      "{'Longitude (Deg)': -64.2, 'Total Radiated Energy (J)': '68000000000', 'Velocity Components (km/s): vz': '-14.5', 'Latitude (Deg)': -18.3, 'Calculated Total Impact Energy (kt)': '0.22', 'Velocity Components (km/s): vy': '-23.7', 'Date/Time - Peak Brightness (UT)': 1346021863.0, 'Velocity Components (km/s): vx': '-8', 'Velocity (km/s)': '', 'Altitude (km)': '38.7'}\n",
      "{'Longitude (Deg)': -117.0, 'Total Radiated Energy (J)': '249000000000', 'Velocity Components (km/s): vz': '-0.7', 'Latitude (Deg)': 11.8, 'Calculated Total Impact Energy (kt)': '0.68', 'Velocity Components (km/s): vy': '-11.6', 'Date/Time - Peak Brightness (UT)': 1345964147.0, 'Velocity Components (km/s): vx': '5', 'Velocity (km/s)': '', 'Altitude (km)': '36'}\n",
      "{'Longitude (Deg)': 52.2, 'Total Radiated Energy (J)': '244000000000', 'Velocity Components (km/s): vz': '-11.5', 'Latitude (Deg)': 1.2, 'Calculated Total Impact Energy (kt)': '0.67', 'Velocity Components (km/s): vy': '14.1', 'Date/Time - Peak Brightness (UT)': 1347968079.0, 'Velocity Components (km/s): vx': '-1.9', 'Velocity (km/s)': '', 'Altitude (km)': '28.1'}\n",
      "{'Longitude (Deg)': 157.9, 'Total Radiated Energy (J)': '42000000000', 'Velocity Components (km/s): vz': '', 'Latitude (Deg)': 8.4, 'Calculated Total Impact Energy (kt)': '0.14', 'Velocity Components (km/s): vy': '', 'Date/Time - Peak Brightness (UT)': 1427996378.0, 'Velocity Components (km/s): vx': '', 'Velocity (km/s)': '', 'Altitude (km)': ''}\n",
      "{'Longitude (Deg)': -105.2, 'Total Radiated Energy (J)': '52000000000', 'Velocity Components (km/s): vz': '', 'Latitude (Deg)': -18.9, 'Calculated Total Impact Energy (kt)': '0.17', 'Velocity Components (km/s): vy': '', 'Date/Time - Peak Brightness (UT)': 1347372450.0, 'Velocity Components (km/s): vx': '', 'Velocity (km/s)': '', 'Altitude (km)': ''}\n",
      "{'Longitude (Deg)': 174.8, 'Total Radiated Energy (J)': '143000000000', 'Velocity Components (km/s): vz': '', 'Latitude (Deg)': -15.8, 'Calculated Total Impact Energy (kt)': '0.42', 'Velocity Components (km/s): vy': '', 'Date/Time - Peak Brightness (UT)': 1334995703.0, 'Velocity Components (km/s): vx': '', 'Velocity (km/s)': '', 'Altitude (km)': ''}\n",
      "{'Longitude (Deg)': -139.1, 'Total Radiated Energy (J)': '105000000000', 'Velocity Components (km/s): vz': '0.9', 'Latitude (Deg)': -48.7, 'Calculated Total Impact Energy (kt)': '0.32', 'Velocity Components (km/s): vy': '-4.2', 'Date/Time - Peak Brightness (UT)': 1430360461.0, 'Velocity Components (km/s): vx': '12.2', 'Velocity (km/s)': '', 'Altitude (km)': '26.7'}\n",
      "{'Longitude (Deg)': -172.3, 'Total Radiated Energy (J)': '34000000000', 'Velocity Components (km/s): vz': '', 'Latitude (Deg)': 63.1, 'Calculated Total Impact Energy (kt)': '0.12', 'Velocity Components (km/s): vy': '', 'Date/Time - Peak Brightness (UT)': 1343333990.0, 'Velocity Components (km/s): vx': '', 'Velocity (km/s)': '', 'Altitude (km)': '27.2'}\n",
      "{'Longitude (Deg)': 10.6, 'Total Radiated Energy (J)': '229000000000', 'Velocity Components (km/s): vz': '', 'Latitude (Deg)': 76.7, 'Calculated Total Impact Energy (kt)': '0.63', 'Velocity Components (km/s): vy': '', 'Date/Time - Peak Brightness (UT)': 1336139689.0, 'Velocity Components (km/s): vx': '', 'Velocity (km/s)': '', 'Altitude (km)': ''}\n",
      "{'Longitude (Deg)': -107.4, 'Total Radiated Energy (J)': '44000000000', 'Velocity Components (km/s): vz': '', 'Latitude (Deg)': 36.2, 'Calculated Total Impact Energy (kt)': '0.15', 'Velocity Components (km/s): vy': '', 'Date/Time - Peak Brightness (UT)': 1335189670.0, 'Velocity Components (km/s): vx': '', 'Velocity (km/s)': '', 'Altitude (km)': '25.2'}\n",
      "{'Longitude (Deg)': -41.5, 'Total Radiated Energy (J)': '133000000000', 'Velocity Components (km/s): vz': '-18.4', 'Latitude (Deg)': 36.4, 'Calculated Total Impact Energy (kt)': '0.39', 'Velocity Components (km/s): vy': '2', 'Date/Time - Peak Brightness (UT)': 1343173700.0, 'Velocity Components (km/s): vx': '0.8', 'Velocity (km/s)': '', 'Altitude (km)': '26.8'}\n",
      "{'Longitude (Deg)': 39.6, 'Total Radiated Energy (J)': '88000000000', 'Velocity Components (km/s): vz': '7.4', 'Latitude (Deg)': 37.7, 'Calculated Total Impact Energy (kt)': '0.27', 'Velocity Components (km/s): vy': '12.8', 'Date/Time - Peak Brightness (UT)': 1429551771.0, 'Velocity Components (km/s): vx': '-15.3', 'Velocity (km/s)': '', 'Altitude (km)': '37.4'}\n",
      "{'Longitude (Deg)': 135.5, 'Total Radiated Energy (J)': '132000000000', 'Velocity Components (km/s): vz': '17', 'Latitude (Deg)': -61.8, 'Calculated Total Impact Energy (kt)': '0.39', 'Velocity Components (km/s): vy': '1.1', 'Date/Time - Peak Brightness (UT)': 1337051057.0, 'Velocity Components (km/s): vx': '-0.8', 'Velocity (km/s)': '', 'Altitude (km)': '33.3'}\n"
     ]
    }
   ],
   "source": [
    "\n",
    "def latlng_normalize(dataset, latlng, col_name):\n",
    "    keyword = {'Latitude': 'N', 'Longitude': \"W\"}.get(latlng)\n",
    "    for row in dataset:\n",
    "        \n",
    "        row[col_name] = float(row[col_name][:-1]) if row[col_name][-1:] is keyword else float(row[col_name][:-1]) * -1.0\n",
    "        pass\n",
    "    pass\n",
    "\n",
    "def datetime_normalize(dataset, col_name):\n",
    "    for row in dataset:\n",
    "        row[col_name]=parse(row[col_conf['Time']['name']]).timestamp()\n",
    "    pass\n",
    "\n",
    "with open('column_config.json','r') as col_conf_file:\n",
    "    col_conf = json.load(col_conf_file)\n",
    "    col_conf_file.close()\n",
    "    pass\n",
    "\n",
    "print(col_conf.keys())\n",
    "dataset = []\n",
    "\n",
    "with open('input/Fireball_And_Bolide_Reports.csv','r') as csvfile:\n",
    "    csvdict = csv.DictReader(csvfile)\n",
    "    for a in csvdict:\n",
    "        dataset.append(a)\n",
    "    for attr in list(col_conf.keys()):\n",
    "        if attr == 'Latitude' or attr == 'Longitude':\n",
    "            print()\n",
    "            latlng_normalize(dataset, attr, col_conf[attr]['name'])\n",
    "            pass\n",
    "        if attr == \"Time\":\n",
    "            datetime_normalize(dataset,col_conf[attr]['name'])\n",
    "            pass\n",
    "        pass\n",
    "    pass\n"
   ]
  },
  {
   "cell_type": "code",
   "execution_count": null,
   "metadata": {
    "collapsed": false
   },
   "outputs": [],
   "source": [
    "col_name = 'Latitude'\n",
    "keyword = {'Latitude': 'N', 'Longitude': \"W\"}.get(col_name)\n",
    "print(keyword)\n"
   ]
  },
  {
   "cell_type": "code",
   "execution_count": null,
   "metadata": {
    "collapsed": false
   },
   "outputs": [],
   "source": [
    "print(parse(dataset[0][col_conf['Time']['name']]).timestamp(),dataset[0][col_conf['Time']['name']])"
   ]
  }
 ],
 "metadata": {
  "anaconda-cloud": {},
  "kernelspec": {
   "display_name": "Python [conda env:Anaconda3]",
   "language": "python",
   "name": "conda-env-Anaconda3-py"
  },
  "language_info": {
   "codemirror_mode": {
    "name": "ipython",
    "version": 3
   },
   "file_extension": ".py",
   "mimetype": "text/x-python",
   "name": "python",
   "nbconvert_exporter": "python",
   "pygments_lexer": "ipython3",
   "version": "3.5.5"
  }
 },
 "nbformat": 4,
 "nbformat_minor": 1
}
