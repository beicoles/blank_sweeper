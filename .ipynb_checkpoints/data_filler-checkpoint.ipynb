{
 "cells": [
  {
   "cell_type": "code",
   "execution_count": 35,
   "metadata": {
    "collapsed": false
   },
   "outputs": [],
   "source": [
    "import json\n",
    "import csv\n",
    "import numpy as np\n",
    "import argparse\n",
    "import pandas as pd\n",
    "\n",
    "from impyute.imputation.cs import fast_knn\n",
    "from sklearn import datasets\n",
    "from sklearn.neighbors import KNeighborsClassifier"
   ]
  },
  {
   "cell_type": "code",
   "execution_count": 36,
   "metadata": {
    "collapsed": true
   },
   "outputs": [],
   "source": [
    "config = 'column_config.json'\n",
    "data_input = 'Fireball_And_Bolide_Reports.csv'\n",
    "data_output = 'Fireball_And_Bolide_Reports.csv'\n",
    "input_path = 'input\\\\'\n",
    "tmp_path = 'tmp\\\\'\n",
    "output_path = 'output\\\\'"
   ]
  },
  {
   "cell_type": "code",
   "execution_count": 37,
   "metadata": {
    "collapsed": true
   },
   "outputs": [],
   "source": [
    "def build_argsparser():\n",
    "    parser = argparse.ArgumentParser(description='X TEAM data filler')\n",
    "    parser.add_argument('--input', type=str, default='Fireball_And_Bolide_Reports.csv', help='123')\n",
    "    parser.add_argument('--output', type=str, default='Fireball_And_Bolide_Reports.csv', help='234')\n",
    "    parser.add_argument('--strategy', type=str, default='knn', help='345')\n",
    "    parser.add_argument('--config', type=str, default='column_config.json', help='456')\n",
    "    return parser"
   ]
  },
  {
   "cell_type": "code",
   "execution_count": 38,
   "metadata": {
    "collapsed": true
   },
   "outputs": [],
   "source": [
    "def isfloat(value):\n",
    "  try:\n",
    "    float(value)\n",
    "    return True\n",
    "  except ValueError:\n",
    "    return False"
   ]
  },
  {
   "cell_type": "code",
   "execution_count": 39,
   "metadata": {
    "collapsed": false
   },
   "outputs": [],
   "source": [
    "# opt = build_argsparser().parse_args()\n",
    "# data_input = opt.input\n",
    "# data_output = opt.output"
   ]
  },
  {
   "cell_type": "code",
   "execution_count": 40,
   "metadata": {
    "collapsed": false
   },
   "outputs": [
    {
     "name": "stdout",
     "output_type": "stream",
     "text": [
      "Reading input data from Fireball_And_Bolide_Reports.csv\n"
     ]
    }
   ],
   "source": [
    "print('Reading input data from {}'.format(data_input))\n",
    "header = []\n",
    "column_type = [] # 0 for class, 1 for digit\n",
    "train_digit = []\n",
    "train_class = []\n",
    "origin = []\n",
    "# assume that the csv file contains at least 1 row and all features in 1st line are filled\n",
    "with open(tmp_path+data_input) as csvfile:\n",
    "    reader = csv.reader(csvfile, delimiter=',')\n",
    "    header = next(reader, None)\n",
    "    column_type = [0] * len(header)\n",
    "    \n",
    "    row = next(reader, None)\n",
    "    for i, v in enumerate(row):\n",
    "        if isfloat(v):\n",
    "            column_type[i] = 1\n",
    "    # 1st row is skipped\n",
    "    \n",
    "    for row in reader:\n",
    "        row_digit = [float(v) if v != '' else np.nan for i, v in enumerate(row) if column_type[i] == 1]\n",
    "        row_class = [v if v != '' else np.nan for i,v in enumerate(row) if column_type[i] == 0]\n",
    "        row = [i if i != '' else np.nan for i in row]\n",
    "        train_digit.append(row_digit)\n",
    "        train_class.append(row_class)\n",
    "        origin.append(row)\n",
    "train_nd = np.asarray(train_digit)"
   ]
  },
  {
   "cell_type": "code",
   "execution_count": 41,
   "metadata": {
    "collapsed": false
   },
   "outputs": [],
   "source": [
    "result = fast_knn(train_nd, k=5)\n",
    "filled = []\n",
    "for i, row in enumerate(train_class):\n",
    "    filled.append(row+list(result[i]))\n",
    "filled = np.asarray(train)"
   ]
  },
  {
   "cell_type": "code",
   "execution_count": 48,
   "metadata": {
    "collapsed": false
   },
   "outputs": [
    {
     "name": "stdout",
     "output_type": "stream",
     "text": [
      "dict_keys(['Latitude', 'Longitude', 'Time', 'RelatedData'])\n"
     ]
    },
    {
     "data": {
      "text/html": [
       "<style  type=\"text/css\" >\n",
       "</style><table id=\"T_cfb17a62_f293_11e9_81a0_c85b7674f015\" ><thead>    <tr>        <th class=\"blank level0\" ></th>        <th class=\"col_heading level0 col0\" >0</th>        <th class=\"col_heading level0 col1\" >1</th>        <th class=\"col_heading level0 col2\" >2</th>        <th class=\"col_heading level0 col3\" >3</th>        <th class=\"col_heading level0 col4\" >4</th>        <th class=\"col_heading level0 col5\" >5</th>        <th class=\"col_heading level0 col6\" >6</th>        <th class=\"col_heading level0 col7\" >7</th>        <th class=\"col_heading level0 col8\" >8</th>        <th class=\"col_heading level0 col9\" >9</th>    </tr></thead><tbody>\n",
       "                <tr>\n",
       "                        <th id=\"T_cfb17a62_f293_11e9_81a0_c85b7674f015level0_row0\" class=\"row_heading level0 row0\" >0</th>\n",
       "                        <td id=\"T_cfb17a62_f293_11e9_81a0_c85b7674f015row0_col0\" class=\"data row0 col0\" >01/09/2015 10:41:11 AM</td>\n",
       "                        <td id=\"T_cfb17a62_f293_11e9_81a0_c85b7674f015row0_col1\" class=\"data row0 col1\" >2.0N</td>\n",
       "                        <td id=\"T_cfb17a62_f293_11e9_81a0_c85b7674f015row0_col2\" class=\"data row0 col2\" >28.8E</td>\n",
       "                        <td id=\"T_cfb17a62_f293_11e9_81a0_c85b7674f015row0_col3\" class=\"data row0 col3\" >36.0</td>\n",
       "                        <td id=\"T_cfb17a62_f293_11e9_81a0_c85b7674f015row0_col4\" class=\"data row0 col4\" >17.24509803921569</td>\n",
       "                        <td id=\"T_cfb17a62_f293_11e9_81a0_c85b7674f015row0_col5\" class=\"data row0 col5\" >-10.7</td>\n",
       "                        <td id=\"T_cfb17a62_f293_11e9_81a0_c85b7674f015row0_col6\" class=\"data row0 col6\" >-7.6</td>\n",
       "                        <td id=\"T_cfb17a62_f293_11e9_81a0_c85b7674f015row0_col7\" class=\"data row0 col7\" >11.6</td>\n",
       "                        <td id=\"T_cfb17a62_f293_11e9_81a0_c85b7674f015row0_col8\" class=\"data row0 col8\" >139000000000.0</td>\n",
       "                        <td id=\"T_cfb17a62_f293_11e9_81a0_c85b7674f015row0_col9\" class=\"data row0 col9\" >0.41</td>\n",
       "            </tr>\n",
       "            <tr>\n",
       "                        <th id=\"T_cfb17a62_f293_11e9_81a0_c85b7674f015level0_row1\" class=\"row_heading level0 row1\" >1</th>\n",
       "                        <td id=\"T_cfb17a62_f293_11e9_81a0_c85b7674f015row1_col0\" class=\"data row1 col0\" >05/16/2014 12:42:48 PM</td>\n",
       "                        <td id=\"T_cfb17a62_f293_11e9_81a0_c85b7674f015row1_col1\" class=\"data row1 col1\" >44.2S</td>\n",
       "                        <td id=\"T_cfb17a62_f293_11e9_81a0_c85b7674f015row1_col2\" class=\"data row1 col2\" >176.2W</td>\n",
       "                        <td id=\"T_cfb17a62_f293_11e9_81a0_c85b7674f015row1_col3\" class=\"data row1 col3\" >44.0</td>\n",
       "                        <td id=\"T_cfb17a62_f293_11e9_81a0_c85b7674f015row1_col4\" class=\"data row1 col4\" >16.07751677852349</td>\n",
       "                        <td id=\"T_cfb17a62_f293_11e9_81a0_c85b7674f015row1_col5\" class=\"data row1 col5\" >14.4</td>\n",
       "                        <td id=\"T_cfb17a62_f293_11e9_81a0_c85b7674f015row1_col6\" class=\"data row1 col6\" >4.6</td>\n",
       "                        <td id=\"T_cfb17a62_f293_11e9_81a0_c85b7674f015row1_col7\" class=\"data row1 col7\" >6.5</td>\n",
       "                        <td id=\"T_cfb17a62_f293_11e9_81a0_c85b7674f015row1_col8\" class=\"data row1 col8\" >309000000000.0</td>\n",
       "                        <td id=\"T_cfb17a62_f293_11e9_81a0_c85b7674f015row1_col9\" class=\"data row1 col9\" >0.82</td>\n",
       "            </tr>\n",
       "            <tr>\n",
       "                        <th id=\"T_cfb17a62_f293_11e9_81a0_c85b7674f015level0_row2\" class=\"row_heading level0 row2\" >2</th>\n",
       "                        <td id=\"T_cfb17a62_f293_11e9_81a0_c85b7674f015row2_col0\" class=\"data row2 col0\" >08/23/2014 06:29:41 AM</td>\n",
       "                        <td id=\"T_cfb17a62_f293_11e9_81a0_c85b7674f015row2_col1\" class=\"data row2 col1\" >61.7S</td>\n",
       "                        <td id=\"T_cfb17a62_f293_11e9_81a0_c85b7674f015row2_col2\" class=\"data row2 col2\" >132.6E</td>\n",
       "                        <td id=\"T_cfb17a62_f293_11e9_81a0_c85b7674f015row2_col3\" class=\"data row2 col3\" >22.2</td>\n",
       "                        <td id=\"T_cfb17a62_f293_11e9_81a0_c85b7674f015row2_col4\" class=\"data row2 col4\" >16.2</td>\n",
       "                        <td id=\"T_cfb17a62_f293_11e9_81a0_c85b7674f015row2_col5\" class=\"data row2 col5\" >-2.3</td>\n",
       "                        <td id=\"T_cfb17a62_f293_11e9_81a0_c85b7674f015row2_col6\" class=\"data row2 col6\" >5.7</td>\n",
       "                        <td id=\"T_cfb17a62_f293_11e9_81a0_c85b7674f015row2_col7\" class=\"data row2 col7\" >16.5</td>\n",
       "                        <td id=\"T_cfb17a62_f293_11e9_81a0_c85b7674f015row2_col8\" class=\"data row2 col8\" >3820000000000.0</td>\n",
       "                        <td id=\"T_cfb17a62_f293_11e9_81a0_c85b7674f015row2_col9\" class=\"data row2 col9\" >7.6</td>\n",
       "            </tr>\n",
       "            <tr>\n",
       "                        <th id=\"T_cfb17a62_f293_11e9_81a0_c85b7674f015level0_row3\" class=\"row_heading level0 row3\" >3</th>\n",
       "                        <td id=\"T_cfb17a62_f293_11e9_81a0_c85b7674f015row3_col0\" class=\"data row3 col0\" >12/12/2014 06:48:11 AM</td>\n",
       "                        <td id=\"T_cfb17a62_f293_11e9_81a0_c85b7674f015row3_col1\" class=\"data row3 col1\" >33.5N</td>\n",
       "                        <td id=\"T_cfb17a62_f293_11e9_81a0_c85b7674f015row3_col2\" class=\"data row3 col2\" >144.9E</td>\n",
       "                        <td id=\"T_cfb17a62_f293_11e9_81a0_c85b7674f015row3_col3\" class=\"data row3 col3\" >26.3</td>\n",
       "                        <td id=\"T_cfb17a62_f293_11e9_81a0_c85b7674f015row3_col4\" class=\"data row3 col4\" >17.083333333333336</td>\n",
       "                        <td id=\"T_cfb17a62_f293_11e9_81a0_c85b7674f015row3_col5\" class=\"data row3 col5\" >11.5</td>\n",
       "                        <td id=\"T_cfb17a62_f293_11e9_81a0_c85b7674f015row3_col6\" class=\"data row3 col6\" >-2.8</td>\n",
       "                        <td id=\"T_cfb17a62_f293_11e9_81a0_c85b7674f015row3_col7\" class=\"data row3 col7\" >-2.2</td>\n",
       "                        <td id=\"T_cfb17a62_f293_11e9_81a0_c85b7674f015row3_col8\" class=\"data row3 col8\" >33000000000.0</td>\n",
       "                        <td id=\"T_cfb17a62_f293_11e9_81a0_c85b7674f015row3_col9\" class=\"data row3 col9\" >0.11</td>\n",
       "            </tr>\n",
       "            <tr>\n",
       "                        <th id=\"T_cfb17a62_f293_11e9_81a0_c85b7674f015level0_row4\" class=\"row_heading level0 row4\" >4</th>\n",
       "                        <td id=\"T_cfb17a62_f293_11e9_81a0_c85b7674f015row4_col0\" class=\"data row4 col0\" >07/29/2014 07:38:07 AM</td>\n",
       "                        <td id=\"T_cfb17a62_f293_11e9_81a0_c85b7674f015row4_col1\" class=\"data row4 col1\" >49.2S</td>\n",
       "                        <td id=\"T_cfb17a62_f293_11e9_81a0_c85b7674f015row4_col2\" class=\"data row4 col2\" >172.2W</td>\n",
       "                        <td id=\"T_cfb17a62_f293_11e9_81a0_c85b7674f015row4_col3\" class=\"data row4 col3\" >38.01538461538462</td>\n",
       "                        <td id=\"T_cfb17a62_f293_11e9_81a0_c85b7674f015row4_col4\" class=\"data row4 col4\" >17.083333333333336</td>\n",
       "                        <td id=\"T_cfb17a62_f293_11e9_81a0_c85b7674f015row4_col5\" class=\"data row4 col5\" >3.2107088989441936</td>\n",
       "                        <td id=\"T_cfb17a62_f293_11e9_81a0_c85b7674f015row4_col6\" class=\"data row4 col6\" >-9.212217194570137</td>\n",
       "                        <td id=\"T_cfb17a62_f293_11e9_81a0_c85b7674f015row4_col7\" class=\"data row4 col7\" >-0.7254901960784319</td>\n",
       "                        <td id=\"T_cfb17a62_f293_11e9_81a0_c85b7674f015row4_col8\" class=\"data row4 col8\" >73000000000.0</td>\n",
       "                        <td id=\"T_cfb17a62_f293_11e9_81a0_c85b7674f015row4_col9\" class=\"data row4 col9\" >0.23</td>\n",
       "            </tr>\n",
       "            <tr>\n",
       "                        <th id=\"T_cfb17a62_f293_11e9_81a0_c85b7674f015level0_row5\" class=\"row_heading level0 row5\" >5</th>\n",
       "                        <td id=\"T_cfb17a62_f293_11e9_81a0_c85b7674f015row5_col0\" class=\"data row5 col0\" >06/01/2013 10:49:48 PM</td>\n",
       "                        <td id=\"T_cfb17a62_f293_11e9_81a0_c85b7674f015row5_col1\" class=\"data row5 col1\" >65.6S</td>\n",
       "                        <td id=\"T_cfb17a62_f293_11e9_81a0_c85b7674f015row5_col2\" class=\"data row5 col2\" >138.4E</td>\n",
       "                        <td id=\"T_cfb17a62_f293_11e9_81a0_c85b7674f015row5_col3\" class=\"data row5 col3\" >28.9</td>\n",
       "                        <td id=\"T_cfb17a62_f293_11e9_81a0_c85b7674f015row5_col4\" class=\"data row5 col4\" >17.083333333333332</td>\n",
       "                        <td id=\"T_cfb17a62_f293_11e9_81a0_c85b7674f015row5_col5\" class=\"data row5 col5\" >6.469607822110966</td>\n",
       "                        <td id=\"T_cfb17a62_f293_11e9_81a0_c85b7674f015row5_col6\" class=\"data row5 col6\" >-2.6794117642018414</td>\n",
       "                        <td id=\"T_cfb17a62_f293_11e9_81a0_c85b7674f015row5_col7\" class=\"data row5 col7\" >-1.41568627123149</td>\n",
       "                        <td id=\"T_cfb17a62_f293_11e9_81a0_c85b7674f015row5_col8\" class=\"data row5 col8\" >34000000000.0</td>\n",
       "                        <td id=\"T_cfb17a62_f293_11e9_81a0_c85b7674f015row5_col9\" class=\"data row5 col9\" >0.12</td>\n",
       "            </tr>\n",
       "            <tr>\n",
       "                        <th id=\"T_cfb17a62_f293_11e9_81a0_c85b7674f015level0_row6\" class=\"row_heading level0 row6\" >6</th>\n",
       "                        <td id=\"T_cfb17a62_f293_11e9_81a0_c85b7674f015row6_col0\" class=\"data row6 col0\" >02/17/2015 01:19:50 PM</td>\n",
       "                        <td id=\"T_cfb17a62_f293_11e9_81a0_c85b7674f015row6_col1\" class=\"data row6 col1\" >8.0S</td>\n",
       "                        <td id=\"T_cfb17a62_f293_11e9_81a0_c85b7674f015row6_col2\" class=\"data row6 col2\" >11.2W</td>\n",
       "                        <td id=\"T_cfb17a62_f293_11e9_81a0_c85b7674f015row6_col3\" class=\"data row6 col3\" >39.0</td>\n",
       "                        <td id=\"T_cfb17a62_f293_11e9_81a0_c85b7674f015row6_col4\" class=\"data row6 col4\" >17.083333333333336</td>\n",
       "                        <td id=\"T_cfb17a62_f293_11e9_81a0_c85b7674f015row6_col5\" class=\"data row6 col5\" >-28.2</td>\n",
       "                        <td id=\"T_cfb17a62_f293_11e9_81a0_c85b7674f015row6_col6\" class=\"data row6 col6\" >3.4</td>\n",
       "                        <td id=\"T_cfb17a62_f293_11e9_81a0_c85b7674f015row6_col7\" class=\"data row6 col7\" >4.6</td>\n",
       "                        <td id=\"T_cfb17a62_f293_11e9_81a0_c85b7674f015row6_col8\" class=\"data row6 col8\" >33000000000.0</td>\n",
       "                        <td id=\"T_cfb17a62_f293_11e9_81a0_c85b7674f015row6_col9\" class=\"data row6 col9\" >0.11</td>\n",
       "            </tr>\n",
       "            <tr>\n",
       "                        <th id=\"T_cfb17a62_f293_11e9_81a0_c85b7674f015level0_row7\" class=\"row_heading level0 row7\" >7</th>\n",
       "                        <td id=\"T_cfb17a62_f293_11e9_81a0_c85b7674f015row7_col0\" class=\"data row7 col0\" >10/17/2014 02:07:36 PM</td>\n",
       "                        <td id=\"T_cfb17a62_f293_11e9_81a0_c85b7674f015row7_col1\" class=\"data row7 col1\" >4.6S</td>\n",
       "                        <td id=\"T_cfb17a62_f293_11e9_81a0_c85b7674f015row7_col2\" class=\"data row7 col2\" >66.3W</td>\n",
       "                        <td id=\"T_cfb17a62_f293_11e9_81a0_c85b7674f015row7_col3\" class=\"data row7 col3\" >39.0</td>\n",
       "                        <td id=\"T_cfb17a62_f293_11e9_81a0_c85b7674f015row7_col4\" class=\"data row7 col4\" >17.083333333333336</td>\n",
       "                        <td id=\"T_cfb17a62_f293_11e9_81a0_c85b7674f015row7_col5\" class=\"data row7 col5\" >0.6853832521601033</td>\n",
       "                        <td id=\"T_cfb17a62_f293_11e9_81a0_c85b7674f015row7_col6\" class=\"data row7 col6\" >-12.478074863042552</td>\n",
       "                        <td id=\"T_cfb17a62_f293_11e9_81a0_c85b7674f015row7_col7\" class=\"data row7 col7\" >-6.093761157184212</td>\n",
       "                        <td id=\"T_cfb17a62_f293_11e9_81a0_c85b7674f015row7_col8\" class=\"data row7 col8\" >72000000000.0</td>\n",
       "                        <td id=\"T_cfb17a62_f293_11e9_81a0_c85b7674f015row7_col9\" class=\"data row7 col9\" >0.23</td>\n",
       "            </tr>\n",
       "            <tr>\n",
       "                        <th id=\"T_cfb17a62_f293_11e9_81a0_c85b7674f015level0_row8\" class=\"row_heading level0 row8\" >8</th>\n",
       "                        <td id=\"T_cfb17a62_f293_11e9_81a0_c85b7674f015row8_col0\" class=\"data row8 col0\" >12/08/2013 03:10:09 AM</td>\n",
       "                        <td id=\"T_cfb17a62_f293_11e9_81a0_c85b7674f015row8_col1\" class=\"data row8 col1\" >32.8N</td>\n",
       "                        <td id=\"T_cfb17a62_f293_11e9_81a0_c85b7674f015row8_col2\" class=\"data row8 col2\" >165.1W</td>\n",
       "                        <td id=\"T_cfb17a62_f293_11e9_81a0_c85b7674f015row8_col3\" class=\"data row8 col3\" >23.5</td>\n",
       "                        <td id=\"T_cfb17a62_f293_11e9_81a0_c85b7674f015row8_col4\" class=\"data row8 col4\" >17.083333333333332</td>\n",
       "                        <td id=\"T_cfb17a62_f293_11e9_81a0_c85b7674f015row8_col5\" class=\"data row8 col5\" >2.3</td>\n",
       "                        <td id=\"T_cfb17a62_f293_11e9_81a0_c85b7674f015row8_col6\" class=\"data row8 col6\" >2.5</td>\n",
       "                        <td id=\"T_cfb17a62_f293_11e9_81a0_c85b7674f015row8_col7\" class=\"data row8 col7\" >-11.3</td>\n",
       "                        <td id=\"T_cfb17a62_f293_11e9_81a0_c85b7674f015row8_col8\" class=\"data row8 col8\" >64000000000.0</td>\n",
       "                        <td id=\"T_cfb17a62_f293_11e9_81a0_c85b7674f015row8_col9\" class=\"data row8 col9\" >0.2</td>\n",
       "            </tr>\n",
       "            <tr>\n",
       "                        <th id=\"T_cfb17a62_f293_11e9_81a0_c85b7674f015level0_row9\" class=\"row_heading level0 row9\" >9</th>\n",
       "                        <td id=\"T_cfb17a62_f293_11e9_81a0_c85b7674f015row9_col0\" class=\"data row9 col0\" >09/05/2014 09:37:26 PM</td>\n",
       "                        <td id=\"T_cfb17a62_f293_11e9_81a0_c85b7674f015row9_col1\" class=\"data row9 col1\" >22.7N</td>\n",
       "                        <td id=\"T_cfb17a62_f293_11e9_81a0_c85b7674f015row9_col2\" class=\"data row9 col2\" >150.0W</td>\n",
       "                        <td id=\"T_cfb17a62_f293_11e9_81a0_c85b7674f015row9_col3\" class=\"data row9 col3\" >28.859950248756217</td>\n",
       "                        <td id=\"T_cfb17a62_f293_11e9_81a0_c85b7674f015row9_col4\" class=\"data row9 col4\" >17.083333333333332</td>\n",
       "                        <td id=\"T_cfb17a62_f293_11e9_81a0_c85b7674f015row9_col5\" class=\"data row9 col5\" >4.79281045751634</td>\n",
       "                        <td id=\"T_cfb17a62_f293_11e9_81a0_c85b7674f015row9_col6\" class=\"data row9 col6\" >-2.6392156862745098</td>\n",
       "                        <td id=\"T_cfb17a62_f293_11e9_81a0_c85b7674f015row9_col7\" class=\"data row9 col7\" >-1.1542483660130722</td>\n",
       "                        <td id=\"T_cfb17a62_f293_11e9_81a0_c85b7674f015row9_col8\" class=\"data row9 col8\" >35000000000.0</td>\n",
       "                        <td id=\"T_cfb17a62_f293_11e9_81a0_c85b7674f015row9_col9\" class=\"data row9 col9\" >0.12</td>\n",
       "            </tr>\n",
       "    </tbody></table>"
      ],
      "text/plain": [
       "<pandas.io.formats.style.Styler at 0x123440f0>"
      ]
     },
     "execution_count": 48,
     "metadata": {},
     "output_type": "execute_result"
    }
   ],
   "source": [
    "df = pd.DataFrame(filled)\n",
    "with open('column_config.json','r') as col_conf_file:\n",
    "    col_conf = json.load(col_conf_file)\n",
    "    col_conf_file.close()\n",
    "\n",
    "df.head(10).style.apply(lambda x: ['background: lightblue' if x.name == \"Date/Time - Peak Brightness (UT)\" \\\n",
    "                          or x.name == col_conf['Longitude']['name'] or x.name == col_conf['Latitude']['name'] \\\n",
    "                          else '' for i in x])"
   ]
  },
  {
   "cell_type": "code",
   "execution_count": null,
   "metadata": {
    "collapsed": true
   },
   "outputs": [],
   "source": []
  }
 ],
 "metadata": {
  "anaconda-cloud": {},
  "kernelspec": {
   "display_name": "nasa-6G39LUFn",
   "language": "python",
   "name": "nasa-6g39lufn"
  },
  "language_info": {
   "codemirror_mode": {
    "name": "ipython",
    "version": 3
   },
   "file_extension": ".py",
   "mimetype": "text/x-python",
   "name": "python",
   "nbconvert_exporter": "python",
   "pygments_lexer": "ipython3",
   "version": "3.6.0"
  }
 },
 "nbformat": 4,
 "nbformat_minor": 1
}
