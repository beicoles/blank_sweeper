{
 "cells": [
  {
   "cell_type": "code",
   "execution_count": 35,
   "metadata": {
    "collapsed": false
   },
   "outputs": [],
   "source": [
    "import json\n",
    "import csv\n",
    "import numpy as np\n",
    "import argparse\n",
    "import pandas as pd\n",
    "\n",
    "from impyute.imputation.cs import fast_knn\n",
    "from sklearn import datasets\n",
    "from sklearn.neighbors import KNeighborsClassifier"
   ]
  },
  {
   "cell_type": "code",
   "execution_count": 36,
   "metadata": {
    "collapsed": true
   },
   "outputs": [],
   "source": [
    "config = 'column_config.json'\n",
    "data_input = 'Fireball_And_Bolide_Reports.csv'\n",
    "data_output = 'Fireball_And_Bolide_Reports.csv'\n",
    "input_path = 'input\\\\'\n",
    "tmp_path = 'tmp\\\\'\n",
    "output_path = 'output\\\\'"
   ]
  },
  {
   "cell_type": "code",
   "execution_count": 37,
   "metadata": {
    "collapsed": true
   },
   "outputs": [],
   "source": [
    "def build_argsparser():\n",
    "    parser = argparse.ArgumentParser(description='X TEAM data filler')\n",
    "    parser.add_argument('--input', type=str, default='Fireball_And_Bolide_Reports.csv', help='123')\n",
    "    parser.add_argument('--output', type=str, default='Fireball_And_Bolide_Reports.csv', help='234')\n",
    "    parser.add_argument('--strategy', type=str, default='knn', help='345')\n",
    "    parser.add_argument('--config', type=str, default='column_config.json', help='456')\n",
    "    return parser"
   ]
  },
  {
   "cell_type": "code",
   "execution_count": 38,
   "metadata": {
    "collapsed": true
   },
   "outputs": [],
   "source": [
    "def isfloat(value):\n",
    "  try:\n",
    "    float(value)\n",
    "    return True\n",
    "  except ValueError:\n",
    "    return False"
   ]
  },
  {
   "cell_type": "code",
   "execution_count": 39,
   "metadata": {
    "collapsed": false
   },
   "outputs": [],
   "source": [
    "# opt = build_argsparser().parse_args()\n",
    "# data_input = opt.input\n",
    "# data_output = opt.output"
   ]
  },
  {
   "cell_type": "code",
   "execution_count": 40,
   "metadata": {
    "collapsed": false
   },
   "outputs": [
    {
     "name": "stdout",
     "output_type": "stream",
     "text": [
      "Reading input data from Fireball_And_Bolide_Reports.csv\n"
     ]
    }
   ],
   "source": [
    "print('Reading input data from {}'.format(data_input))\n",
    "header = []\n",
    "column_type = [] # 0 for class, 1 for digit\n",
    "train_digit = []\n",
    "train_class = []\n",
    "origin = []\n",
    "# assume that the csv file contains at least 1 row and all features in 1st line are filled\n",
    "with open(tmp_path+data_input) as csvfile:\n",
    "    reader = csv.reader(csvfile, delimiter=',')\n",
    "    header = next(reader, None)\n",
    "    column_type = [0] * len(header)\n",
    "    \n",
    "    row = next(reader, None)\n",
    "    for i, v in enumerate(row):\n",
    "        if isfloat(v):\n",
    "            column_type[i] = 1\n",
    "    # 1st row is skipped\n",
    "    \n",
    "    for row in reader:\n",
    "        row_digit = [float(v) if v != '' else np.nan for i, v in enumerate(row) if column_type[i] == 1]\n",
    "        row_class = [v if v != '' else np.nan for i,v in enumerate(row) if column_type[i] == 0]\n",
    "        row = [i if i != '' else np.nan for i in row]\n",
    "        train_digit.append(row_digit)\n",
    "        train_class.append(row_class)\n",
    "        origin.append(row)\n",
    "train_nd = np.asarray(train_digit)"
   ]
  },
  {
   "cell_type": "code",
   "execution_count": 41,
   "metadata": {
    "collapsed": false
   },
   "outputs": [],
   "source": [
    "result = fast_knn(train_nd, k=5)\n",
    "filled = []\n",
    "for i, row in enumerate(train_class):\n",
    "    filled.append(row+list(result[i]))\n",
    "filled = np.asarray(train)"
   ]
  },
  {
   "cell_type": "code",
   "execution_count": 61,
   "metadata": {
    "collapsed": false
   },
   "outputs": [
    {
     "data": {
      "text/html": [
       "<div>\n",
       "<style scoped>\n",
       "    .dataframe tbody tr th:only-of-type {\n",
       "        vertical-align: middle;\n",
       "    }\n",
       "\n",
       "    .dataframe tbody tr th {\n",
       "        vertical-align: top;\n",
       "    }\n",
       "\n",
       "    .dataframe thead th {\n",
       "        text-align: right;\n",
       "    }\n",
       "</style>\n",
       "<table border=\"1\" class=\"dataframe\">\n",
       "  <thead>\n",
       "    <tr style=\"text-align: right;\">\n",
       "      <th></th>\n",
       "      <th>0</th>\n",
       "      <th>1</th>\n",
       "      <th>2</th>\n",
       "      <th>3</th>\n",
       "      <th>4</th>\n",
       "      <th>5</th>\n",
       "      <th>6</th>\n",
       "      <th>7</th>\n",
       "      <th>8</th>\n",
       "      <th>9</th>\n",
       "    </tr>\n",
       "  </thead>\n",
       "  <tbody>\n",
       "    <tr>\n",
       "      <th>0</th>\n",
       "      <td>01/09/2015 10:41:11 AM</td>\n",
       "      <td>2.0N</td>\n",
       "      <td>28.8E</td>\n",
       "      <td>36.000000</td>\n",
       "      <td>17.245098</td>\n",
       "      <td>-10.700000</td>\n",
       "      <td>-7.600000</td>\n",
       "      <td>11.600000</td>\n",
       "      <td>1.390000e+11</td>\n",
       "      <td>0.41</td>\n",
       "    </tr>\n",
       "    <tr>\n",
       "      <th>1</th>\n",
       "      <td>05/16/2014 12:42:48 PM</td>\n",
       "      <td>44.2S</td>\n",
       "      <td>176.2W</td>\n",
       "      <td>44.000000</td>\n",
       "      <td>16.077517</td>\n",
       "      <td>14.400000</td>\n",
       "      <td>4.600000</td>\n",
       "      <td>6.500000</td>\n",
       "      <td>3.090000e+11</td>\n",
       "      <td>0.82</td>\n",
       "    </tr>\n",
       "    <tr>\n",
       "      <th>2</th>\n",
       "      <td>08/23/2014 06:29:41 AM</td>\n",
       "      <td>61.7S</td>\n",
       "      <td>132.6E</td>\n",
       "      <td>22.200000</td>\n",
       "      <td>16.200000</td>\n",
       "      <td>-2.300000</td>\n",
       "      <td>5.700000</td>\n",
       "      <td>16.500000</td>\n",
       "      <td>3.820000e+12</td>\n",
       "      <td>7.60</td>\n",
       "    </tr>\n",
       "    <tr>\n",
       "      <th>3</th>\n",
       "      <td>12/12/2014 06:48:11 AM</td>\n",
       "      <td>33.5N</td>\n",
       "      <td>144.9E</td>\n",
       "      <td>26.300000</td>\n",
       "      <td>17.083333</td>\n",
       "      <td>11.500000</td>\n",
       "      <td>-2.800000</td>\n",
       "      <td>-2.200000</td>\n",
       "      <td>3.300000e+10</td>\n",
       "      <td>0.11</td>\n",
       "    </tr>\n",
       "    <tr>\n",
       "      <th>4</th>\n",
       "      <td>07/29/2014 07:38:07 AM</td>\n",
       "      <td>49.2S</td>\n",
       "      <td>172.2W</td>\n",
       "      <td>38.015385</td>\n",
       "      <td>17.083333</td>\n",
       "      <td>3.210709</td>\n",
       "      <td>-9.212217</td>\n",
       "      <td>-0.725490</td>\n",
       "      <td>7.300000e+10</td>\n",
       "      <td>0.23</td>\n",
       "    </tr>\n",
       "    <tr>\n",
       "      <th>5</th>\n",
       "      <td>06/01/2013 10:49:48 PM</td>\n",
       "      <td>65.6S</td>\n",
       "      <td>138.4E</td>\n",
       "      <td>28.900000</td>\n",
       "      <td>17.083333</td>\n",
       "      <td>6.469608</td>\n",
       "      <td>-2.679412</td>\n",
       "      <td>-1.415686</td>\n",
       "      <td>3.400000e+10</td>\n",
       "      <td>0.12</td>\n",
       "    </tr>\n",
       "    <tr>\n",
       "      <th>6</th>\n",
       "      <td>02/17/2015 01:19:50 PM</td>\n",
       "      <td>8.0S</td>\n",
       "      <td>11.2W</td>\n",
       "      <td>39.000000</td>\n",
       "      <td>17.083333</td>\n",
       "      <td>-28.200000</td>\n",
       "      <td>3.400000</td>\n",
       "      <td>4.600000</td>\n",
       "      <td>3.300000e+10</td>\n",
       "      <td>0.11</td>\n",
       "    </tr>\n",
       "    <tr>\n",
       "      <th>7</th>\n",
       "      <td>10/17/2014 02:07:36 PM</td>\n",
       "      <td>4.6S</td>\n",
       "      <td>66.3W</td>\n",
       "      <td>39.000000</td>\n",
       "      <td>17.083333</td>\n",
       "      <td>0.685383</td>\n",
       "      <td>-12.478075</td>\n",
       "      <td>-6.093761</td>\n",
       "      <td>7.200000e+10</td>\n",
       "      <td>0.23</td>\n",
       "    </tr>\n",
       "    <tr>\n",
       "      <th>8</th>\n",
       "      <td>12/08/2013 03:10:09 AM</td>\n",
       "      <td>32.8N</td>\n",
       "      <td>165.1W</td>\n",
       "      <td>23.500000</td>\n",
       "      <td>17.083333</td>\n",
       "      <td>2.300000</td>\n",
       "      <td>2.500000</td>\n",
       "      <td>-11.300000</td>\n",
       "      <td>6.400000e+10</td>\n",
       "      <td>0.20</td>\n",
       "    </tr>\n",
       "    <tr>\n",
       "      <th>9</th>\n",
       "      <td>09/05/2014 09:37:26 PM</td>\n",
       "      <td>22.7N</td>\n",
       "      <td>150.0W</td>\n",
       "      <td>28.859950</td>\n",
       "      <td>17.083333</td>\n",
       "      <td>4.792810</td>\n",
       "      <td>-2.639216</td>\n",
       "      <td>-1.154248</td>\n",
       "      <td>3.500000e+10</td>\n",
       "      <td>0.12</td>\n",
       "    </tr>\n",
       "  </tbody>\n",
       "</table>\n",
       "</div>"
      ],
      "text/plain": [
       "                        0      1       2          3          4          5  \\\n",
       "0  01/09/2015 10:41:11 AM   2.0N   28.8E  36.000000  17.245098 -10.700000   \n",
       "1  05/16/2014 12:42:48 PM  44.2S  176.2W  44.000000  16.077517  14.400000   \n",
       "2  08/23/2014 06:29:41 AM  61.7S  132.6E  22.200000  16.200000  -2.300000   \n",
       "3  12/12/2014 06:48:11 AM  33.5N  144.9E  26.300000  17.083333  11.500000   \n",
       "4  07/29/2014 07:38:07 AM  49.2S  172.2W  38.015385  17.083333   3.210709   \n",
       "5  06/01/2013 10:49:48 PM  65.6S  138.4E  28.900000  17.083333   6.469608   \n",
       "6  02/17/2015 01:19:50 PM   8.0S   11.2W  39.000000  17.083333 -28.200000   \n",
       "7  10/17/2014 02:07:36 PM   4.6S   66.3W  39.000000  17.083333   0.685383   \n",
       "8  12/08/2013 03:10:09 AM  32.8N  165.1W  23.500000  17.083333   2.300000   \n",
       "9  09/05/2014 09:37:26 PM  22.7N  150.0W  28.859950  17.083333   4.792810   \n",
       "\n",
       "           6          7             8     9  \n",
       "0  -7.600000  11.600000  1.390000e+11  0.41  \n",
       "1   4.600000   6.500000  3.090000e+11  0.82  \n",
       "2   5.700000  16.500000  3.820000e+12  7.60  \n",
       "3  -2.800000  -2.200000  3.300000e+10  0.11  \n",
       "4  -9.212217  -0.725490  7.300000e+10  0.23  \n",
       "5  -2.679412  -1.415686  3.400000e+10  0.12  \n",
       "6   3.400000   4.600000  3.300000e+10  0.11  \n",
       "7 -12.478075  -6.093761  7.200000e+10  0.23  \n",
       "8   2.500000 -11.300000  6.400000e+10  0.20  \n",
       "9  -2.639216  -1.154248  3.500000e+10  0.12  "
      ]
     },
     "execution_count": 61,
     "metadata": {},
     "output_type": "execute_result"
    }
   ],
   "source": [
    "df = pd.DataFrame(filled)\n",
    "for i in range(3, 10):\n",
    "    df[i] = df[i].astype('float')\n",
    "df.head(10)"
   ]
  },
  {
   "cell_type": "code",
   "execution_count": null,
   "metadata": {
    "collapsed": true
   },
   "outputs": [],
   "source": []
  }
 ],
 "metadata": {
  "anaconda-cloud": {},
  "kernelspec": {
   "display_name": "nasa-6G39LUFn",
   "language": "python",
   "name": "nasa-6g39lufn"
  },
  "language_info": {
   "codemirror_mode": {
    "name": "ipython",
    "version": 3
   },
   "file_extension": ".py",
   "mimetype": "text/x-python",
   "name": "python",
   "nbconvert_exporter": "python",
   "pygments_lexer": "ipython3",
   "version": "3.6.0"
  }
 },
 "nbformat": 4,
 "nbformat_minor": 1
}
